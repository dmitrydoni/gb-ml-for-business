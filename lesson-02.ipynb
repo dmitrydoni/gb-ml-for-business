{
 "cells": [
  {
   "cell_type": "markdown",
   "metadata": {
    "colab_type": "text",
    "id": "4ANkieVRnyZC"
   },
   "source": [
    "## Time Series 2. Transformation of Features"
   ]
  },
  {
   "cell_type": "markdown",
   "metadata": {
    "colab_type": "text",
    "id": "BBoiqL1HnyZE"
   },
   "source": [
    "### Task 1\n",
    "Прочитайте базу \"Потребление Энергии\" и сделайте модель для сезонных изменений по data_exp_1 с глубиной прогноза h=1 и h=10 по образцу из примера для обработки ряда \"цена Нефти\"."
   ]
  },
  {
   "cell_type": "markdown",
   "metadata": {
    "colab_type": "text",
    "id": "O917WsgdnyZG"
   },
   "source": []
  },
  {
   "cell_type": "markdown",
   "metadata": {},
   "source": [
    "### Task 2   \n",
    "Оцените ошибку модели из п.2 ."
   ]
  },
  {
   "cell_type": "markdown",
   "metadata": {},
   "source": []
  },
  {
   "cell_type": "markdown",
   "metadata": {},
   "source": [
    "### Task 3   \n",
    "Сделайте вывод о том, как изменилась ошибка модели по значениям h."
   ]
  },
  {
   "cell_type": "markdown",
   "metadata": {},
   "source": []
  },
  {
   "cell_type": "markdown",
   "metadata": {},
   "source": [
    "### Task 4   \n",
    "Попробуйте предположить характер ряда (стационарный или нет, с трендом, с сезоном, с циклом) для рядов из списка и аргументируйте свой ответ (одна строка):  \n",
    "    а) Изменение температуры за окном :).    \n",
    "    б) Количество денег, которые тратят покупатели в интернет магазине.    \n",
    "    в) Вес растущего котенка.    \n",
    "    г) Прирост объема деревьев в лесу от времени"
   ]
  },
  {
   "cell_type": "markdown",
   "metadata": {},
   "source": [
    "а)  \n",
    "б)  \n",
    "в)  \n",
    "г)  "
   ]
  },
  {
   "cell_type": "code",
   "execution_count": null,
   "metadata": {},
   "outputs": [],
   "source": []
  }
 ],
 "metadata": {
  "colab": {
   "name": "Временные ряды 1.ipynb",
   "provenance": []
  },
  "kernelspec": {
   "display_name": "Python 3",
   "language": "python",
   "name": "python3"
  },
  "language_info": {
   "codemirror_mode": {
    "name": "ipython",
    "version": 3
   },
   "file_extension": ".py",
   "mimetype": "text/x-python",
   "name": "python",
   "nbconvert_exporter": "python",
   "pygments_lexer": "ipython3",
   "version": "3.7.3"
  }
 },
 "nbformat": 4,
 "nbformat_minor": 2
}
